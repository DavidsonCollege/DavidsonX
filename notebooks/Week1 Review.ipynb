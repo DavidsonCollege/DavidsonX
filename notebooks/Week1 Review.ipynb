{
    "metadata": {
        "kernelspec": {
            "name": "SQL",
            "display_name": "SQL",
            "language": "sql"
        },
        "language_info": {
            "name": "sql",
            "version": ""
        }
    },
    "nbformat_minor": 2,
    "nbformat": 4,
    "cells": [
        {
            "cell_type": "markdown",
            "source": [
                "# Week 1 - Review\n",
                "Welcome to your review for Week 1 of Introduction SQL. This Jupyter Notebook will present you with a series of problems you need to solve.\n",
                "To begin, make sure you have selected the SQL kernel from the dropdown menu above, and attach this notebook to your \"dvdrental\" database.\n",
                "Pay close attention to the directions and modify the SQL as needed to get a correct result. Good luck!\n",
                "* * *"
            ],
            "metadata": {
                "azdata_cell_guid": "f2a93807-d091-4f4b-93a5-a1339d557227"
            }
        },
        {
            "cell_type": "markdown",
            "source": [
                "### Problem 1:\n",
                "\n",
                "The following SQL is invalid. Rewrite the query so it returns each unique first name from the actor table that occurs more than 3 times."
            ],
            "metadata": {
                "azdata_cell_guid": "013a62c3-39c0-4c88-b7d2-cce0d0b93447"
            }
        },
        {
            "cell_type": "code",
            "source": [
                "SELECT first_name\r\n",
                "    , COUNT(1)\r\n",
                "FROM actor\r\n",
                "WHERE COUNT(1) > 3\r\n",
                "GROUP BY first_name"
            ],
            "metadata": {
                "azdata_cell_guid": "67e7762c-b3ac-4037-9347-25ded639af56"
            },
            "outputs": [],
            "execution_count": null
        },
        {
            "cell_type": "markdown",
            "source": [
                "___\r\n",
                "### Problem 2:\r\n",
                "\r\n",
                "Rewrite the following query using the BETWEEN logical operator to return the same results."
            ],
            "metadata": {
                "azdata_cell_guid": "d7c23117-2ad9-431a-87ac-2391c626d1a4"
            }
        },
        {
            "cell_type": "code",
            "source": [
                "SELECT DISTINCT first_name\r\n",
                "    , last_name\r\n",
                "FROM actor\r\n",
                "WHERE last_name > 'J'\r\n",
                "    AND last_name < 'M'\r\n",
                "ORDER BY 2, 1"
            ],
            "metadata": {
                "azdata_cell_guid": "27af32d1-0291-4793-b59b-386ec5fb098c"
            },
            "outputs": [],
            "execution_count": null
        },
        {
            "cell_type": "markdown",
            "source": [
                "___\n",
                "### Problem 3:\n",
                "\n",
                "Finish the query below by filtering the results to only return actors and actresses whose name begins with W and ends with N"
            ],
            "metadata": {
                "azdata_cell_guid": "f5ff8663-b630-4e1c-9c2b-7bfe7d6da5b7"
            }
        },
        {
            "cell_type": "code",
            "source": [
                "SELECT first_name\r\n",
                "    , last_name\r\n",
                "FROM actor\r\n",
                "--\r\n",
                "ORDER BY 2, 1"
            ],
            "metadata": {
                "azdata_cell_guid": "b9f826ad-820c-4a47-a6d8-8ca363310b05",
                "tags": []
            },
            "outputs": [],
            "execution_count": null
        },
        {
            "cell_type": "markdown",
            "source": [
                "* * *\n",
                "\n",
                "### Problem 4:\n",
                "\n",
                "Rewrite the following query so it returns all actors and actresses named either Penelope Monroe or Michael Bening."
            ],
            "metadata": {
                "azdata_cell_guid": "19112c33-798b-4638-aa0e-b3acbf016adb"
            }
        },
        {
            "cell_type": "code",
            "source": [
                "SELECT first_name\r\n",
                "    , last_name\r\n",
                "FROM actor\r\n",
                "WHERE (first_name = 'Penelope')\r\n",
                "    OR first_name = 'Michael'\r\n",
                "    AND last_name = 'Bening'\r\n",
                "    AND last_name = 'Monroe'"
            ],
            "metadata": {
                "azdata_cell_guid": "3f7ba250-1849-45be-b67b-5e5229ea4363"
            },
            "outputs": [],
            "execution_count": null
        },
        {
            "cell_type": "markdown",
            "source": [
                "* * *\n",
                "### Problem 5\n",
                "Rewrite the following query to combine last\\_name and first\\_name into a single column with a comma between them, like \"Hopkins, Anthony.\" Then sort the results in descending order."
            ],
            "metadata": {
                "azdata_cell_guid": "a0e05755-4e20-4dfd-9b97-75a9cb728a49"
            }
        },
        {
            "cell_type": "code",
            "source": [
                "SELECT last_name\n",
                "    , first_name\n",
                "FROM actor\n",
                "ORDER BY 2, 1"
            ],
            "metadata": {
                "azdata_cell_guid": "37d7b6e4-9d25-48a8-b621-08c9acada7d4"
            },
            "outputs": [],
            "execution_count": null
        }
    ]
}