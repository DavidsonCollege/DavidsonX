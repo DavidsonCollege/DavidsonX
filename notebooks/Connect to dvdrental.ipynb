{
    "metadata": {
        "kernelspec": {
            "name": "SQL",
            "display_name": "SQL",
            "language": "sql"
        },
        "language_info": {
            "name": "sql",
            "version": ""
        }
    },
    "nbformat_minor": 2,
    "nbformat": 4,
    "cells": [
        {
            "cell_type": "markdown",
            "source": [
                "# Connect to dvdrental\n",
                "Use this SQL notebook to test your ability to connect to the \"dvdrental\" database in Postgres.\n",
                "- Make sure your Kernel is set to \"SQL\"\n",
                "- In the \"Attach to\" dropdown, select \"Change Connection\"\n",
                "- On the Connection panel, choose your Postgres database and select the dvdrental database from the \"Database name\" dropdown menu.\n",
                "- Name your connection as \"dvdrental\" to easily distinguish it.\n",
                "- Click \"Connect\"\n",
                "- Run the following code and confirm a result that says \"200\""
            ],
            "metadata": {
                "azdata_cell_guid": "23a32b15-cfa1-4395-9d19-3c30a9e15b25"
            }
        },
        {
            "cell_type": "code",
            "source": [
                "SELECT COUNT(1)\n",
                "FROM actor"
            ],
            "metadata": {
                "azdata_cell_guid": "284c107d-7dc0-481c-8797-96c7d9fa0418"
            },
            "outputs": [
{
    "output_type": "display_data",
    "data": {
        "text/html": "(1 row(s) affected)"
    },
    "metadata": {}
}, {
    "output_type": "display_data",
    "data": {
        "text/html": "Total execution time: 00:00:00.004"
    },
    "metadata": {}
}, {
    "output_type": "execute_result",
    "metadata": {},
    "execution_count": 5,
    "data": {
        "application/vnd.dataresource+json": {
            "schema": {
                "fields": [
                    {
                        "name": "count"
                    }
                ]
            },
            "data": [
                {
                    "0": "200"
                }
            ]
        },
        "text/html": [
            "<table>",
            "<tr><th>count</th></tr>",
            "<tr><td>200</td></tr>",
            "</table>"
        ]
    }
}
],
            "execution_count": null
        },
        {
            "cell_type": "markdown",
            "source": [
                "\r\n",
                "![dvdrentalconnection](.\\assets\\dvdrental_connection.PNG)"
            ],
            "metadata": {
                "azdata_cell_guid": "2df392ff-814d-4d46-9a1d-2c84c334ad8f"
            }
        }
    ]
}