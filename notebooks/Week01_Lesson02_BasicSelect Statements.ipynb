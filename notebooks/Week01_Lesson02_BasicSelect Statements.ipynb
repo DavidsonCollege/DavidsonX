{
    "metadata": {
        "kernelspec": {
            "name": "SQL",
            "display_name": "SQL",
            "language": "sql"
        },
        "language_info": {
            "name": "sql",
            "version": ""
        }
    },
    "nbformat_minor": 2,
    "nbformat": 4,
    "cells": [
        {
            "cell_type": "markdown",
            "source": [
                "# Week 01 - Lesson xx - Basic SELECT Statements\n",
                "\n",
                "## Getting Started\n",
                "\n",
                "In this lesson, I'll introduce you to basic SELECT statements in SQL using our new DVD rental database."
            ],
            "metadata": {
                "azdata_cell_guid": "d74ef7a9-a699-437d-b840-438818303fad"
            }
        },
        {
            "cell_type": "code",
            "source": [
                "SELECT *\r\n",
                "\r\n",
                "FROM actor"
            ],
            "metadata": {
                "azdata_cell_guid": "236fecbf-08fa-415f-9eb9-f3d421623e53"
            },
            "outputs": [
                {
                    "output_type": "display_data",
                    "data": {
                        "text/html": "(200 row(s) affected)"
                    },
                    "metadata": {}
                },
                {
                    "output_type": "display_data",
                    "data": {
                        "text/html": "Total execution time: 00:00:00.006"
                    },
                    "metadata": {}
                },
                {
                    "output_type": "execute_result",
                    "metadata": {
                        "resultSet": {
                            "batchId": 0,
                            "columnInfo": [
                                {
                                    "allowDbNull": null,
                                    "baseCatalogName": null,
                                    "baseColumnName": "actor_id",
                                    "baseSchemaName": null,
                                    "baseServerName": null,
                                    "baseTableName": null,
                                    "columnName": "actor_id",
                                    "columnOrdinal": 0,
                                    "columnSize": 4,
                                    "dataType": "int4",
                                    "isAliased": null,
                                    "isAutoIncrement": null,
                                    "isExpression": null,
                                    "isHidden": null,
                                    "isIdentity": null,
                                    "isKey": null,
                                    "isReadOnly": false,
                                    "isUnique": null,
                                    "isUpdatable": false,
                                    "numericPrecision": null,
                                    "numericScale": null
                                },
                                {
                                    "allowDbNull": null,
                                    "baseCatalogName": null,
                                    "baseColumnName": "first_name",
                                    "baseSchemaName": null,
                                    "baseServerName": null,
                                    "baseTableName": null,
                                    "columnName": "first_name",
                                    "columnOrdinal": 1,
                                    "columnSize": 45,
                                    "dataType": "varchar",
                                    "isAliased": null,
                                    "isAutoIncrement": null,
                                    "isExpression": null,
                                    "isHidden": null,
                                    "isIdentity": null,
                                    "isKey": null,
                                    "isReadOnly": false,
                                    "isUnique": null,
                                    "isUpdatable": false,
                                    "numericPrecision": null,
                                    "numericScale": null
                                },
                                {
                                    "allowDbNull": null,
                                    "baseCatalogName": null,
                                    "baseColumnName": "last_name",
                                    "baseSchemaName": null,
                                    "baseServerName": null,
                                    "baseTableName": null,
                                    "columnName": "last_name",
                                    "columnOrdinal": 2,
                                    "columnSize": 45,
                                    "dataType": "varchar",
                                    "isAliased": null,
                                    "isAutoIncrement": null,
                                    "isExpression": null,
                                    "isHidden": null,
                                    "isIdentity": null,
                                    "isKey": null,
                                    "isReadOnly": false,
                                    "isUnique": null,
                                    "isUpdatable": false,
                                    "numericPrecision": null,
                                    "numericScale": null
                                },
                                {
                                    "allowDbNull": null,
                                    "baseCatalogName": null,
                                    "baseColumnName": "last_update",
                                    "baseSchemaName": null,
                                    "baseServerName": null,
                                    "baseTableName": null,
                                    "columnName": "last_update",
                                    "columnOrdinal": 3,
                                    "columnSize": 8,
                                    "dataType": "timestamp",
                                    "isAliased": null,
                                    "isAutoIncrement": null,
                                    "isExpression": null,
                                    "isHidden": null,
                                    "isIdentity": null,
                                    "isKey": null,
                                    "isReadOnly": false,
                                    "isUnique": null,
                                    "isUpdatable": false,
                                    "numericPrecision": null,
                                    "numericScale": null
                                }
                            ],
                            "complete": true,
                            "id": 0,
                            "rowCount": 200
                        }
                    },
                    "execution_count": 2,
                    "data": {
                        "application/vnd.dataresource+json": {
                            "schema": {
                                "fields": [
                                    {
                                        "name": "actor_id"
                                    },
                                    {
                                        "name": "first_name"
                                    },
                                    {
                                        "name": "last_name"
                                    },
                                    {
                                        "name": "last_update"
                                    }
                                ]
                            },
                            "data": []
                        },
                        "text/html": [
                            "<table>",
                            "<tr><th>actor_id</th><th>first_name</th><th>last_name</th><th>last_update</th></tr>",
                            "</table>"
                        ]
                    }
                }
            ],
            "execution_count": 2
        }
    ]
}