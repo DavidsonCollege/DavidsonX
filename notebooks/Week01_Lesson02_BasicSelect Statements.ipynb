{
    "metadata": {
        "kernelspec": {
            "name": "SQL",
            "display_name": "SQL",
            "language": "sql"
        },
        "language_info": {
            "name": "sql",
            "version": ""
        }
    },
    "nbformat_minor": 2,
    "nbformat": 4,
    "cells": [
        {
            "cell_type": "markdown",
            "source": [
                "# Week 01 - Lesson xx - Basic SELECT Statements\n",
                "\n",
                "## Getting Started\n",
                "\n",
                "In this lesson, I'll introduce you to basic SELECT statements in SQL using our new DVD rental database."
            ],
            "metadata": {
                "azdata_cell_guid": "d74ef7a9-a699-437d-b840-438818303fad"
            }
        },
        {
            "cell_type": "code",
            "source": [
                "SELECT *\r\n",
                "FROM actor\r\n",
                "ORDER BY first_name\r\n",
                "    , last_name\r\n",
                "LIMIT 10"
            ],
            "metadata": {
                "azdata_cell_guid": "236fecbf-08fa-415f-9eb9-f3d421623e53"
            },
            "outputs": [],
            "execution_count": null
        }
    ]
}